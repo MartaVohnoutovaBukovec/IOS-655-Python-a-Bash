{
 "cells": [
  {
   "cell_type": "markdown",
   "metadata": {},
   "source": [
    "# Soutěž v blokovém programování 18.4.2023 - SŠ\n",
    "\n",
    "## $\\color{red}{\\text{pro pokročilé}}$ \n",
    "řešení\n",
    "\n"
   ]
  },
  {
   "cell_type": "markdown",
   "metadata": {},
   "source": [
    "## Sem zadejte jméno skupiny"
   ]
  },
  {
   "cell_type": "code",
   "execution_count": null,
   "metadata": {},
   "outputs": [],
   "source": []
  },
  {
   "cell_type": "markdown",
   "metadata": {},
   "source": [
    "## Jednoduché programování v Pythonu\n",
    "\n",
    "Předpokládá se, že jednoduché základy Pythonu máte za sebou a měli byste umět sestavit nekomplikovaný prográmek. To je také to, co se bude chtít.\n",
    "\n",
    "Nejprve vyřešený příklad."
   ]
  },
  {
   "cell_type": "markdown",
   "metadata": {},
   "source": [
    "### Vzorová úloha - snadná - Cyklus\n",
    "\n",
    "Pro 10 náhodných čísel v rozsahu od 19 do 999 a pro číslo 27 vytvořte cyklus, který bude provádět následující kroky:\n",
    "\n",
    "Jestliže je číslo n sudé, proveďte operaci n/2\n",
    "Jestliže je číslo n liché, proveďte operaci 3n + 1\n",
    "celý cyklus opakujte, dokud nebude číslo n == 1\n",
    "Pro každé číslo počítejte počet kroků než dosáhne číslo n hodnoty 1.\n",
    "Vytiskněte všechny kroky pro každé číslo n a vytiskněte číslo s největším počtem kroků.\n",
    "\n",
    "Nápověda: Náhodné číslo v daném rozsahu dostanete takto:\n",
    "\n",
    "from random import randint as rd\n",
    "\n",
    "n=rd(19,999)"
   ]
  },
  {
   "cell_type": "code",
   "execution_count": 1,
   "metadata": {},
   "outputs": [
    {
     "name": "stdout",
     "output_type": "stream",
     "text": [
      "Pro číslo 293 je maximum 118 kroků k jedničce\n"
     ]
    }
   ],
   "source": [
    "# Marta Vohnoutová - vzorový úkol - Cyklus\n",
    "\n",
    "from random import randint as rd\n",
    "\n",
    "def ukol2():\n",
    "    vystup={}\n",
    "    for _ in range(0,10):        \n",
    "        vystup[rd(19,999)]=[]\n",
    "    \n",
    "    vystup[27]=[]\n",
    "    \n",
    "    for k,v in vystup.items():\n",
    "        n=k\n",
    "        while True:\n",
    "            vystup[k].append(n)\n",
    "            if n==1:\n",
    "                break\n",
    "            if n%2 == 0: # sude\n",
    "                n=n/2\n",
    "            elif n%2 != 0: # liche\n",
    "                n=3*n+1\n",
    "    return vystup\n",
    "\n",
    "vystup=ukol2()\n",
    "#print(vystup)\n",
    "cislo=0\n",
    "steps=0\n",
    "for k,v in vystup.items():\n",
    "    if len(v)>steps:\n",
    "        steps=len(v)\n",
    "        cislo=k\n",
    "print(f'Pro číslo {cislo} je maximum {steps} kroků k jedničce')\n",
    "                "
   ]
  },
  {
   "cell_type": "markdown",
   "metadata": {},
   "source": [
    "## Zadání k vašemu úkolu\n",
    "\n",
    "## Nejdelší text bez opakování\n",
    "\n",
    "Vytvořte funkci nazvanou **nejdelší_text** s parametry:\n",
    "    \n",
    "- jméno souboru včetně cesty\n",
    "\n",
    "Funkce provede následující:\n",
    "    \n",
    "1. zbaví text veškerých **punctuations** a **whitespaces** a \"-\", ponechte pouze ASCII abecedu (všechna písmena převeďte namalá) - obsahuje knihovna **string**\n",
    "2. najděte nejdelší část textu, kde se žádné z písmen nebude opakovat (ASCII písmena **a-z** (nezohledňujete zda malá či velká).\n",
    "Text může začínat i končit uvnitř slov nebo jít přes slova.\n",
    "Text ke zpracování najdete na URL https://raw.githubusercontent.com/MartaVohnoutovaBukovec/IOS-655-Python-a-Bash/master/raven.txt\n",
    "\n",
    "**Input:** textový soubor z URL\n",
    "                                                                       \n",
    "**Output:** výstup na obrazovku - nejdelší řetězce z upraveného textu (může jich být více) - výstup je setříděný list.\n"
   ]
  },
  {
   "cell_type": "markdown",
   "metadata": {},
   "source": [
    "### Sem napište váš prográmek"
   ]
  },
  {
   "cell_type": "code",
   "execution_count": null,
   "metadata": {},
   "outputs": [],
   "source": []
  }
 ],
 "metadata": {
  "kernelspec": {
   "display_name": "Python 3 (ipykernel)",
   "language": "python",
   "name": "python3"
  },
  "language_info": {
   "codemirror_mode": {
    "name": "ipython",
    "version": 3
   },
   "file_extension": ".py",
   "mimetype": "text/x-python",
   "name": "python",
   "nbconvert_exporter": "python",
   "pygments_lexer": "ipython3",
   "version": "3.10.9"
  }
 },
 "nbformat": 4,
 "nbformat_minor": 4
}
