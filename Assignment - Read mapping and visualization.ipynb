{
 "cells": [
  {
   "cell_type": "markdown",
   "id": "c326cc38",
   "metadata": {},
   "source": [
    "## Assignment - Read mapping and visualization\n",
    "\n",
    "Marta Vohnoutova\n",
    "\n",
    "The purpose of this assignment is to learn how to do simple illumina pared-end read mapping into genome and how to visualize mapping results in genomic browser. Tutorial is available at https://training.galaxyproject.org/training-material/topics/sequence-analysis/tutorials/mapping/tutorial.html\n",
    "\n",
    "Final visualization can be done in program IGV (desktop, require installation, available for all operating system) of Jbrowse (web based). If possible explore both programs. \n",
    "\n",
    "Manual for IGV is https://software.broadinstitute.org/software/igv/UserGuide, how to inspect mapped reads is described here:  https://software.broadinstitute.org/software/igv/AlignmentData \n",
    "\n",
    " \n",
    "\n",
    "As a result of you work, share with me the link to the Galaxy history and screenshot \n",
    "of genomic region chr2:98666621-98666854\n",
    "\n",
    "How many single nucleotide polymorphisms (SNP) do you see in displayed region. How do you distinguish polymorfism from sequencing error? "
   ]
  },
  {
   "cell_type": "markdown",
   "id": "e1d3c11e",
   "metadata": {},
   "source": [
    "## 1st Install IGV \n",
    "\n",
    "I will install IGV notebook"
   ]
  },
  {
   "cell_type": "raw",
   "id": "c765bef9",
   "metadata": {},
   "source": [
    "!pip install igv-notebook"
   ]
  },
  {
   "cell_type": "markdown",
   "id": "5b9105c7",
   "metadata": {},
   "source": [
    "## Install mapper Bowtie"
   ]
  },
  {
   "cell_type": "raw",
   "id": "fdd1955b",
   "metadata": {},
   "source": [
    "!conda install -c bioconda bowtie2"
   ]
  },
  {
   "cell_type": "raw",
   "id": "e11559c4",
   "metadata": {},
   "source": [
    "!pip install wget"
   ]
  },
  {
   "cell_type": "markdown",
   "id": "d552d947",
   "metadata": {},
   "source": [
    "### Initialization and import"
   ]
  },
  {
   "cell_type": "code",
   "execution_count": null,
   "id": "6e8283eb",
   "metadata": {},
   "outputs": [],
   "source": [
    "import igv_notebook\n",
    "igv_notebook.init()\n",
    "\n",
    "import wget"
   ]
  },
  {
   "cell_type": "code",
   "execution_count": 37,
   "id": "48172242",
   "metadata": {},
   "outputs": [
    {
     "name": "stdout",
     "output_type": "stream",
     "text": [
      "/home/bioinfo/marta_training\r\n"
     ]
    }
   ],
   "source": [
    "!pwd"
   ]
  },
  {
   "cell_type": "markdown",
   "id": "31e233d0",
   "metadata": {},
   "source": [
    "## Allow to share Martas' Galaxy histories"
   ]
  },
  {
   "cell_type": "markdown",
   "id": "510eea41",
   "metadata": {},
   "source": [
    "Done\n",
    "\n",
    "Marta Vohnoutova - Quality check of long readsed history (Current)\t\n",
    "\n",
    "\n",
    "Marta Vohnoutova - history for Assignment - Read mapping and visualization history \t\n",
    "\n",
    "\n",
    "Marta Vohnoutova - Quality check of Nanopore reads history \t\n",
    "\n",
    "\n",
    "Marta history for Assignment - Read mapping and visualization \t\n",
    "\n",
    "\n"
   ]
  },
  {
   "cell_type": "markdown",
   "id": "f696910a",
   "metadata": {},
   "source": [
    "# IVG snapshot "
   ]
  },
  {
   "cell_type": "markdown",
   "id": "c32c7843",
   "metadata": {},
   "source": [
    "![IVG Marta V.](https://raw.githubusercontent.com/MartaVohnoutovaBukovec/IOS-655-Python-a-Bash/master/igv_snapshot%20Marta%20Vohnoutova.png)"
   ]
  },
  {
   "cell_type": "markdown",
   "id": "f38c43c5",
   "metadata": {},
   "source": [
    "# SNP"
   ]
  },
  {
   "cell_type": "code",
   "execution_count": null,
   "id": "b2011ad1",
   "metadata": {},
   "outputs": [],
   "source": [
    "1. SNP  (is C - expected a)\n",
    "\n",
    "chr2:98,666,664\n",
    "Total count: 14\n",
    "A : 3 (21%, 3+, 0- )\n",
    "C : 10 (71%, 9+, 1- )\n",
    "G : 0\n",
    "T : 1 (7%, 1+, 0- )\n",
    "N : 0\n",
    "    \n",
    "    \n",
    "2. probably not SNP - expected t sometimes A\n",
    "\n",
    "chr2:98,666,746\n",
    "Total count: 21\n",
    "A : 5 (24%, 4+, 1- )\n",
    "C : 0\n",
    "G : 0\n",
    "T : 16 (76%, 13+, 3- )\n",
    "N : 0\n",
    "    \n",
    "3. SNP - is G exepected t\n",
    "\n",
    "chr2:98,666,780\n",
    "Total count: 52\n",
    "A : 1 (2%, 1+, 0- )\n",
    "C : 0\n",
    "G : 49 (94%, 39+, 10- )\n",
    "T : 2 (4%, 1+, 1- )\n",
    "N : 0\n",
    "\n",
    "4. SNP is C expected t\n",
    "\n",
    "chr2:98,666,818\n",
    "Total count: 36\n",
    "A : 0\n",
    "C : 34 (94%, 26+, 8- )\n",
    "G : 0\n",
    "T : 2 (6%, 2+, 0- )\n",
    "N : 0\n",
    "    \n"
   ]
  },
  {
   "cell_type": "markdown",
   "id": "41756736",
   "metadata": {},
   "source": [
    "## How do you distinguish polymorfism from sequencing error"
   ]
  },
  {
   "cell_type": "markdown",
   "id": "aec7183e",
   "metadata": {},
   "source": [
    "SNP is if almost all reads differ, sequencing error is sometimes casual error. It is mostly statistical matter.\n",
    "\n",
    "I have also more sophisticated definition how to distinguish them, but it is not from my own head:\n",
    "    \n",
    "Polymorphism and sequencing errors can be difficult to distinguish, but there are a few key differences that can help you differentiate between the two.\n",
    "\n",
    "Polymorphism refers to variations in DNA sequences that are present in a population at a certain frequency. These variations can be due to natural genetic variation, mutations, or other factors. Polymorphisms are typically characterized by their presence in multiple individuals within a population, and they are often inherited from parent to offspring.\n",
    "\n",
    "Sequencing errors, on the other hand, are mistakes that occur during the process of sequencing DNA. These errors can result in variations in the DNA sequence that are not actually present in the original sample. Sequencing errors can be caused by a variety of factors, including issues with the sequencing technology, sample preparation, or data processing.\n",
    "\n",
    "To distinguish between polymorphisms and sequencing errors, there are several approaches you can take. One way is to look for the presence of the variation in multiple individuals within a population. If the variation is present in multiple individuals, it is more likely to be a polymorphism than a sequencing error.\n",
    "\n",
    "Another approach is to check the quality of the sequencing data. Sequencing errors often occur at low frequencies, so if the variation is present at a very low frequency (e.g., less than 1%), it is more likely to be a sequencing error than a polymorphism.\n",
    "\n",
    "Ultimately, the best way to distinguish between polymorphisms and sequencing errors is to use a combination of approaches, including checking the quality of the sequencing data, looking for the presence of the variation in multiple individuals, and comparing the variation to known polymorphisms in the population."
   ]
  },
  {
   "cell_type": "code",
   "execution_count": null,
   "id": "0b9f8ced",
   "metadata": {},
   "outputs": [],
   "source": []
  }
 ],
 "metadata": {
  "kernelspec": {
   "display_name": "Python 3",
   "language": "python",
   "name": "python3"
  },
  "language_info": {
   "codemirror_mode": {
    "name": "ipython",
    "version": 3
   },
   "file_extension": ".py",
   "mimetype": "text/x-python",
   "name": "python",
   "nbconvert_exporter": "python",
   "pygments_lexer": "ipython3",
   "version": "3.9.5"
  }
 },
 "nbformat": 4,
 "nbformat_minor": 5
}
